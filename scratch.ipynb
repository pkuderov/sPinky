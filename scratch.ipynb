{
 "cells": [
  {
   "cell_type": "code",
   "execution_count": 1,
   "metadata": {},
   "outputs": [],
   "source": [
    "import numpy as np\n",
    "import matplotlib.pyplot as plt\n",
    "import scipy.stats as sts\n",
    "import seaborn as sns\n",
    "\n",
    "sns.set()\n",
    "sns.set_style(\"whitegrid\")\n",
    "color_palette = sns.color_palette('deep') + sns.color_palette('husl', 6) + sns.color_palette('bright') + sns.color_palette('pastel')\n",
    "\n",
    "%matplotlib inline"
   ]
  },
  {
   "cell_type": "code",
   "execution_count": 65,
   "metadata": {},
   "outputs": [
    {
     "data": {
      "text/plain": [
       "5.218575355567207"
      ]
     },
     "execution_count": 65,
     "metadata": {},
     "output_type": "execute_result"
    },
    {
     "data": {
      "image/png": "[encoded data removed]",
      "text/plain": [
       "<Figure size 432x288 with 1 Axes>"
      ]
     },
     "metadata": {
      "needs_background": "light"
     },
     "output_type": "display_data"
    }
   ],
   "source": [
    "var = sts.expon() #loc=0, scale=1)\n",
    "\n",
    "\n",
    "standard_rate = 40.\n",
    "sim_n, spikes = 1_000, 200\n",
    "a = (np.random.exponential(scale=1, size=(spikes, sim_n)) + .01) / standard_rate\n",
    "sns.distplot(a[:, 0])\n",
    "\n",
    "a[:, 0].sum()"
   ]
  },
  {
   "cell_type": "code",
   "execution_count": 66,
   "metadata": {},
   "outputs": [
    {
     "name": "stdout",
     "output_type": "stream",
     "text": [
      "0.5075107839656994 1.51805579662323e-07 20000 533\n",
      "1.0043891829554923 1.5174737200140953e-07 40000 840\n",
      "1.512583417003043 1.417938619852066e-07 60000 671\n",
      "2.018737986974884 1.5186727978289127e-05 80000 593\n",
      "2.524747198971454 1.1868542060256004e-06 100000 613\n",
      "3.025971225986723 3.3638207241892815e-07 120000 316\n",
      "3.5271793229621835 2.860906533896923e-07 140000 346\n",
      "4.0340963209746405 2.6694033294916153e-06 160000 760\n",
      "4.557198386988603 1.0632211342453957e-06 180000 860\n",
      "11.3379 0.004204631334869191\n",
      "CPU times: user 5.98 s, sys: 3.97 ms, total: 5.98 s\n",
      "Wall time: 5.98 s\n"
     ]
    }
   ],
   "source": [
    "%%time\n",
    "\n",
    "import time\n",
    "from queue import heappush, heappop\n",
    "\n",
    "pq = list()\n",
    "t0 = time.monotonic()\n",
    "\n",
    "for t in range(sim_n):\n",
    "    heappush(pq, (a[0, t] + t0, t))\n",
    "\n",
    "i, i_spike = 1, [1]*sim_n\n",
    "k = sim_n * spikes // 10\n",
    "lag = .0\n",
    "spin_cnt = 0\n",
    "\n",
    "while len(pq):\n",
    "    t = time.monotonic()\n",
    "    if pq[0][0] <= t:\n",
    "        ct, d = heappop(pq)\n",
    "        cur_lag = t - ct\n",
    "        lag += cur_lag\n",
    "        \n",
    "        if i_spike[d] < spikes:\n",
    "            heappush(pq, (a[i_spike[d], d] + t, d))\n",
    "            i_spike[d] += 1\n",
    "            i += 1\n",
    "            \n",
    "            if i % k == 0:\n",
    "                print(t - t0, cur_lag, i, d)\n",
    "    else:\n",
    "        spin_cnt += 1\n",
    "        \n",
    "print(spin_cnt / 1000_000, lag * 1000. / (sim_n * spikes))"
   ]
  },
  {
   "cell_type": "code",
   "execution_count": null,
   "metadata": {},
   "outputs": [],
   "source": []
  }
 ],
 "metadata": {
  "kernelspec": {
   "display_name": "Python 3",
   "language": "python",
   "name": "python3"
  },
  "language_info": {
   "codemirror_mode": {
    "name": "ipython",
    "version": 3
   },
   "file_extension": ".py",
   "mimetype": "text/x-python",
   "name": "python",
   "nbconvert_exporter": "python",
   "pygments_lexer": "ipython3",
   "version": "3.7.3"
  }
 },
 "nbformat": 4,
 "nbformat_minor": 4
}
